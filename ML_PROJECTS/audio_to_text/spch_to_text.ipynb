{
 "metadata": {
  "language_info": {
   "codemirror_mode": {
    "name": "ipython",
    "version": 3
   },
   "file_extension": ".py",
   "mimetype": "text/x-python",
   "name": "python",
   "nbconvert_exporter": "python",
   "pygments_lexer": "ipython3",
   "version": "3.7.3"
  },
  "orig_nbformat": 4,
  "kernelspec": {
   "name": "python3",
   "display_name": "Python 3.7.3 32-bit"
  },
  "interpreter": {
   "hash": "4bd381f9516b198c53fad9b9645fd0afa037e9d24a75b3907d34261524df23c5"
  }
 },
 "nbformat": 4,
 "nbformat_minor": 2,
 "cells": [
  {
   "cell_type": "code",
   "execution_count": 1,
   "metadata": {},
   "outputs": [],
   "source": [
    "'''\n",
    "Install required dependencies\n",
    "'''\n",
    "\n",
    "from ibm_watson import SpeechToTextV1\n",
    "from ibm_cloud_sdk_core.authenticators import IAMAuthenticator"
   ]
  },
  {
   "cell_type": "code",
   "execution_count": 2,
   "metadata": {},
   "outputs": [],
   "source": [
    "\n",
    "\"\"\"\n",
    "Set up api key variable and url key variable\n",
    "\"\"\"\n",
    "api_key = \"RNv5WMUN2hRAxYNmos23bxwRTwNHYm0w2c7MalVXRhtY\"\n",
    "url_key = \"https://api.us-south.speech-to-text.watson.cloud.ibm.com/instances/29603c1d-5cf8-4a4c-a2e6-ee35e6b04fc7\""
   ]
  },
  {
   "cell_type": "code",
   "execution_count": 3,
   "metadata": {},
   "outputs": [],
   "source": [
    "\"\"\"\n",
    "Setup service\n",
    "\"\"\"\n",
    "\n",
    "auth= IAMAuthenticator(api_key)\n",
    "speech_to_text = SpeechToTextV1(authenticator=auth)\n",
    "speech_to_text.set_service_url(url_key)"
   ]
  },
  {
   "cell_type": "code",
   "execution_count": 4,
   "metadata": {},
   "outputs": [],
   "source": [
    "\"\"\"\n",
    "performing the conversion\n",
    "\"\"\"\n",
    "\n",
    "with open('trial.mp3','rb') as file:\n",
    "    result = speech_to_text.recognize(audio=file,content_type=\"audio/mp3\",model='en-GB_BroadbandModel',continuous=True).get_result()"
   ]
  },
  {
   "cell_type": "code",
   "execution_count": 5,
   "metadata": {},
   "outputs": [
    {
     "output_type": "execute_result",
     "data": {
      "text/plain": [
       "{'result_index': 0,\n",
       " 'results': [{'final': True,\n",
       "   'alternatives': [{'transcript': 'how are you doing ', 'confidence': 1.0}]}]}"
      ]
     },
     "metadata": {},
     "execution_count": 5
    }
   ],
   "source": [
    "result"
   ]
  },
  {
   "cell_type": "code",
   "execution_count": 6,
   "metadata": {},
   "outputs": [
    {
     "output_type": "stream",
     "name": "stdout",
     "text": [
      "Text Message:\n\nhow are you doing \n"
     ]
    }
   ],
   "source": [
    "\"\"\"\n",
    "Extracting only text item from the result\n",
    "\"\"\"\n",
    "\n",
    "text_result = result['results'][0]['alternatives'][0]['transcript']\n",
    "print(f\"Text Message:\\n\\n{text_result}\")"
   ]
  },
  {
   "cell_type": "code",
   "execution_count": 7,
   "metadata": {},
   "outputs": [
    {
     "output_type": "stream",
     "name": "stdout",
     "text": [
      "Confidence probability:\n\n100.0%\n"
     ]
    }
   ],
   "source": [
    "\"\"\"\n",
    "Extracting only confidence from the result\n",
    "\"\"\"\n",
    "\n",
    "confidence_result = result['results'][0]['alternatives'][0]['confidence']\n",
    "print(f\"Confidence probability:\\n\\n{confidence_result*100}%\")"
   ]
  },
  {
   "cell_type": "code",
   "execution_count": 8,
   "metadata": {},
   "outputs": [],
   "source": [
    "\"\"\"\n",
    "Export audio file into text file\n",
    "\"\"\"\n",
    "\n",
    "with open('text_trial.txt','w') as output:\n",
    "    output.writelines(text_result)"
   ]
  },
  {
   "cell_type": "code",
   "execution_count": null,
   "metadata": {},
   "outputs": [],
   "source": []
  }
 ]
}