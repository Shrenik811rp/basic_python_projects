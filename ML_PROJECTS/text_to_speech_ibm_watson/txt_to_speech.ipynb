{
 "metadata": {
  "language_info": {
   "codemirror_mode": {
    "name": "ipython",
    "version": 3
   },
   "file_extension": ".py",
   "mimetype": "text/x-python",
   "name": "python",
   "nbconvert_exporter": "python",
   "pygments_lexer": "ipython3",
   "version": "3.7.3"
  },
  "orig_nbformat": 4,
  "kernelspec": {
   "name": "python3",
   "display_name": "Python 3.7.3 32-bit"
  },
  "interpreter": {
   "hash": "4bd381f9516b198c53fad9b9645fd0afa037e9d24a75b3907d34261524df23c5"
  }
 },
 "nbformat": 4,
 "nbformat_minor": 2,
 "cells": [
  {
   "cell_type": "code",
   "execution_count": 1,
   "metadata": {},
   "outputs": [],
   "source": [
    "\"\"\"\n",
    "Import necessary dependencies\n",
    "\"\"\"\n",
    "\n",
    "from ibm_watson import TextToSpeechV1\n",
    "from ibm_cloud_sdk_core.authenticators import IAMAuthenticator"
   ]
  },
  {
   "cell_type": "code",
   "execution_count": 2,
   "metadata": {},
   "outputs": [],
   "source": [
    "api_key = 'QPSiYJ9ytabUDnlU6TZIjEWiRqynuHVLbNXm7l-OmY1B'\n",
    "url_key = 'https://api.us-south.text-to-speech.watson.cloud.ibm.com/instances/d7aaf2d2-b3ed-4bf7-a08b-0cf7ae3f7e54'\n",
    "\n"
   ]
  },
  {
   "cell_type": "code",
   "execution_count": 3,
   "metadata": {},
   "outputs": [],
   "source": [
    "# Setup Service\n",
    "auth = IAMAuthenticator(api_key)\n",
    "tts = TextToSpeechV1(authenticator=auth)\n",
    "tts.set_service_url(url_key)"
   ]
  },
  {
   "cell_type": "code",
   "execution_count": 4,
   "metadata": {},
   "outputs": [],
   "source": [
    "''' Convert with A Basic Language Model'''\n",
    "\n",
    "\n",
    "with open('./try.mp3', 'wb') as audio_file:\n",
    "    result = tts.synthesize('Hi how are you doing?', accept='audio/mp3', voice='en-US_HenryV3Voice').get_result()\n",
    "    audio_file.write(result.content)\n"
   ]
  },
  {
   "cell_type": "code",
   "execution_count": 5,
   "metadata": {},
   "outputs": [],
   "source": [
    "with open('news.txt', 'r') as file:\n",
    "    text_file = file.readlines()"
   ]
  },
  {
   "cell_type": "code",
   "execution_count": 6,
   "metadata": {},
   "outputs": [
    {
     "output_type": "stream",
     "name": "stdout",
     "text": [
      "Text Document:\n\n['\"Delta plus is having greater affinity to mucosal lining in the lungs, higher compared to other variants, but if it causes damage or not is not clear yet. It also does not mean that this variant will cause more severe disease or it is more transmissible,\" Arora told PTI in an interview.\\n', '\\n', 'He said the impact of the Delta plus strain will become clear only as more cases are identified but it appears that the disease is generally mild in all those who have got either single or double dose of the vaccine.']\n"
     ]
    }
   ],
   "source": [
    "print(f\"Text Document:\\n\\n{text_file}\")"
   ]
  },
  {
   "cell_type": "code",
   "execution_count": 7,
   "metadata": {},
   "outputs": [],
   "source": [
    "#removing newlines\n",
    "text_file = [line.replace('\\n','').replace('-','').replace(\";\",'') for line in text_file]\n"
   ]
  },
  {
   "cell_type": "code",
   "execution_count": 8,
   "metadata": {},
   "outputs": [
    {
     "output_type": "stream",
     "name": "stdout",
     "text": [
      "Text file entered:\n\n\"Delta plus is having greater affinity to mucosal lining in the lungs, higher compared to other variants, but if it causes damage or not is not clear yet. It also does not mean that this variant will cause more severe disease or it is more transmissible,\" Arora told PTI in an interview.He said the impact of the Delta plus strain will become clear only as more cases are identified but it appears that the disease is generally mild in all those who have got either single or double dose of the vaccine.\n"
     ]
    }
   ],
   "source": [
    "text_file = ''.join(str(line) for line in text_file)\n",
    "\n",
    "print(f\"Text file entered:\\n\\n{text_file}\")"
   ]
  },
  {
   "cell_type": "code",
   "execution_count": null,
   "metadata": {},
   "outputs": [],
   "source": [
    "with open('./news_read.mp3', 'wb') as audio_file:\n",
    "    result = tts.synthesize(text_file, accept='audio/mp3', voice='en-US_HenryV3Voice').get_result()\n",
    "    audio_file.write(result.content)"
   ]
  },
  {
   "cell_type": "code",
   "execution_count": null,
   "metadata": {},
   "outputs": [],
   "source": []
  },
  {
   "cell_type": "code",
   "execution_count": null,
   "metadata": {},
   "outputs": [],
   "source": []
  }
 ]
}