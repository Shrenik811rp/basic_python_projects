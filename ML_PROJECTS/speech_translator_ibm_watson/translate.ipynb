{
 "metadata": {
  "language_info": {
   "codemirror_mode": {
    "name": "ipython",
    "version": 3
   },
   "file_extension": ".py",
   "mimetype": "text/x-python",
   "name": "python",
   "nbconvert_exporter": "python",
   "pygments_lexer": "ipython3",
   "version": "3.7.3"
  },
  "orig_nbformat": 4,
  "kernelspec": {
   "name": "python3",
   "display_name": "Python 3.7.3 32-bit"
  },
  "interpreter": {
   "hash": "4bd381f9516b198c53fad9b9645fd0afa037e9d24a75b3907d34261524df23c5"
  }
 },
 "nbformat": 4,
 "nbformat_minor": 2,
 "cells": [
  {
   "cell_type": "code",
   "execution_count": 43,
   "metadata": {},
   "outputs": [],
   "source": [
    "from ibm_watson import SpeechToTextV1, LanguageTranslatorV3\n",
    "\n",
    "from ibm_cloud_sdk_core.authenticators import IAMAuthenticator"
   ]
  },
  {
   "cell_type": "code",
   "execution_count": 44,
   "metadata": {},
   "outputs": [
    {
     "output_type": "execute_result",
     "data": {
      "text/plain": [
       "'End Authenticator'"
      ]
     },
     "metadata": {},
     "execution_count": 44
    }
   ],
   "source": [
    "\n",
    "\"\"\"Authenticator\"\"\"\n",
    "lang_translator_api =\"sFtPpFM26XcIzEu7B9fm99f6yppBmFDBrOhI067qnv-3\"\n",
    "lang_translator_url=\"https://api.us-south.language-translator.watson.cloud.ibm.com/instances/10f4a38c-1bbe-484c-935e-6672dd6ab2f9\"\n",
    "\n",
    "speech_to_text_api =\"RNv5WMUN2hRAxYNmos23bxwRTwNHYm0w2c7MalVXRhtY\"\n",
    "speech_to_text_url=\"https://api.us-south.speech-to-text.watson.cloud.ibm.com/instances/29603c1d-5cf8-4a4c-a2e6-ee35e6b04fc7\"\n",
    "\n",
    "'''lang authenticator'''\n",
    "\n",
    "#gives back authenticator object\n",
    "lang_auth = IAMAuthenticator(lang_translator_api)\n",
    "\n",
    "#language translator object \n",
    "lang_translator = LanguageTranslatorV3(version=\"2018-05-01\",authenticator=lang_auth)\n",
    "\n",
    "lang_translator.set_service_url(lang_translator_url)\n",
    "\n",
    "'''speech to text authenticator'''\n",
    "speech_to_text_auth = IAMAuthenticator(speech_to_text_api)\n",
    "speech_to_text = SpeechToTextV1(authenticator = speech_to_text_auth)\n",
    "\n",
    "speech_to_text.set_service_url(speech_to_text_url)\n",
    "\n",
    "\n",
    "\"\"\"End Authenticator\"\"\"\n"
   ]
  },
  {
   "cell_type": "code",
   "execution_count": 45,
   "metadata": {},
   "outputs": [
    {
     "output_type": "stream",
     "name": "stdout",
     "text": [
      "\n Hey there \n"
     ]
    },
    {
     "output_type": "execute_result",
     "data": {
      "text/plain": [
       "'End speech to text'"
      ]
     },
     "metadata": {},
     "execution_count": 45
    }
   ],
   "source": [
    "\n",
    "\"\"\"Speech to text\"\"\"\n",
    "with open('hello.mp3','rb') as file:\n",
    "    result = speech_to_text.recognize(audio=file,content_type='audio/mp3',model='en-AU_NarrowbandModel',continuous=True).get_result()\n",
    "\n",
    "voice = result['results'][0]['alternatives'][0]['transcript']\n",
    "print(\"\\n\",voice)    \n",
    "\"\"\"End speech to text\"\"\""
   ]
  },
  {
   "cell_type": "code",
   "execution_count": 46,
   "metadata": {},
   "outputs": [
    {
     "output_type": "stream",
     "name": "stdout",
     "text": [
      "ヘイ \n"
     ]
    },
    {
     "output_type": "execute_result",
     "data": {
      "text/plain": [
       "'End text translate'"
      ]
     },
     "metadata": {},
     "execution_count": 46
    }
   ],
   "source": [
    "\n",
    "\n",
    "\n",
    "\n",
    "\"\"\"text translate\"\"\"\n",
    "#english to tamil,hindi,telugu\n",
    "french = 'en-fr'\n",
    "telugu = 'en-te'\n",
    "hindi = 'en-hi'\n",
    "\n",
    "\n",
    "translation = lang_translator.translate(text=voice,model_id =hindi).get_result()\n",
    "\n",
    "translated_text = translation['translations'][0]['translation']\n",
    "\n",
    "print(translated_text)\n",
    "\"\"\"End text translate\"\"\"\n",
    "\n"
   ]
  },
  {
   "cell_type": "code",
   "execution_count": 46,
   "metadata": {},
   "outputs": [],
   "source": [
    "\n"
   ]
  },
  {
   "cell_type": "code",
   "execution_count": null,
   "metadata": {},
   "outputs": [],
   "source": []
  }
 ]
}